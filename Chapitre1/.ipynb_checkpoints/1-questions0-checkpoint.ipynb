{
 "cells": [
  {
   "cell_type": "markdown",
   "id": "ecd8a4df-4ec5-4fbb-99eb-25616c9bc1a6",
   "metadata": {},
   "source": [
    "# Questions\n",
    "::::{admonition} Question 1\n",
    ":class: question\n",
    "Certains colibris battent leurs ailes plus de 50 fois par seconde. Un scientifique mesure le temps que prend un colibri pour battre ses ailes une fois.\\\n",
    "(a) Quelle unité fondamentale le scientifique devrait-il utiliser pour décrire la mesure ?\\\n",
    "(b) Quel facteur de 10 le scientifique est-il susceptible d'utiliser pour décrire le mouvement avec précision ?\\\n",
    "(c) Identifiez le préfixe métrique qui correspond à ce facteur de $10$.\n",
    ":::{dropdown} *réponse*\n",
    "(a) Le scientifique mesurera le temps entre chaque mouvement en utilisant l'unité fondamentale de secondes.\\\n",
    "(b et c) Étant donné que les ailes battent si rapidement, le scientifique aura probablement besoin de mesurer en millisecondes, soit $10^{-3}$ secondes. (50 battements par seconde correspond à 20 millisecondes par battement.)\n",
    ":::\n",
    "::::\n",
    "\n",
    "::::{admonition} Question \n",
    ":class: question\n",
    "Un centimètre cube est égal à un millilitre. Que cela vous dit-il sur les différentes unités dans le système métrique SI ?\n",
    ":::{dropdown} *réponse*\n",
    "L'unité fondamentale de longueur (mètre) est probablement utilisée pour créer l'unité dérivée de volume (litre). La mesure d'un millilitre dépend de la mesure d'un centimètre.\n",
    ":::\n",
    "::::"
   ]
  },
  {
   "cell_type": "code",
   "execution_count": null,
   "id": "03413c7e-7cef-4fe9-8ad1-9bd42e433d2f",
   "metadata": {},
   "outputs": [],
   "source": []
  }
 ],
 "metadata": {
  "kernelspec": {
   "display_name": "Python 3 (ipykernel)",
   "language": "python",
   "name": "python3"
  },
  "language_info": {
   "codemirror_mode": {
    "name": "ipython",
    "version": 3
   },
   "file_extension": ".py",
   "mimetype": "text/x-python",
   "name": "python",
   "nbconvert_exporter": "python",
   "pygments_lexer": "ipython3",
   "version": "3.11.7"
  }
 },
 "nbformat": 4,
 "nbformat_minor": 5
}
