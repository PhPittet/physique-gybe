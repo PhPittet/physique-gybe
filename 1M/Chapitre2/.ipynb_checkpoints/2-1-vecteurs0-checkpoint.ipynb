{
 "cells": [
  {
   "cell_type": "markdown",
   "id": "7d646541-7537-4235-bfcc-6eab7ee06957",
   "metadata": {},
   "source": [
    "# Vecteurs et scalaires\n",
    "## Vecteurs\n",
    "Quelle est la différence entre une distance de $20\\,km$ et un déplacement de $20\\,km$ vers le Nord ? Alors que la distance n'est définie que par l'amplitude ($20\\,km$), le déplacement est défini à la fois par l'amplitude et **la direction** (le Nord). Le déplacement est un exemple de quantité *vectorielle*. La distance est un exemple de grandeur *scalaire*. **Un vecteur est une quantité avec à la fois une amplitude et une direction**. Il existe d'autres grandeurs physique qui sont également des vecteurs comme la vitesse (par exemple $90\\,km/h$ à l'est) ou une force ($500\\,N$ vers le bas).\n",
    "\n",
    "La direction d'un vecteur à une dimension (unidimensionnel) est donnée par un signe plus ($+$) ou moins ($-$), par rapport à la direction d'un axe de référence. Les vecteurs sont représentés graphiquement par des flèches. Une flèche utilisée pour représenter un vecteur a une longueur proportionnelle à l'amplitude (*valeur*) du vecteur (par exemple, plus l'amplitude est grande, plus la longueur du vecteur est importante) et pointe dans la même direction que le vecteur. On écrira les vecteurs avec une lettre surmontée d'une flèche. Par exemple le vecteur déplacement s'écrira $\\overrightarrow{x}\\,$. Les vecteurs ayant surtout un sens pour des mouvements à plusieurs dimension, on peut omettre la flèche sur le $x$ pour des mouvements à une dimension.\n",
    "\n",
    "## Scalaires\n",
    "Certaines grandeurs physiques, comme la masse, n'ont aucune direction. **Un scalaire est une quantité qui a une grandeur, mais aucune direction**. Par exemple, la température ($21.0°C$), les kilocalories  d'énergie d'une barre chocolatée ($250\\,kcal$), la taille d'une personne ($1.80\\,m$) et la distance d'un marathon ($42.195\\,km$) sont tous des scalaires - des quantités sans direction spécifiée. Notez, cependant, qu'un scalaire peut être négatif, comme une température de $-5.0°C$. Dans ce cas, le signe moins indique un point sur une échelle plutôt qu'une direction. Les scalaires ne sont jamais représentés par des flèches."
   ]
  },
  {
   "cell_type": "code",
   "execution_count": null,
   "id": "bdb4c2b2-8c09-4dad-b1a4-ea417b8091d2",
   "metadata": {},
   "outputs": [],
   "source": []
  }
 ],
 "metadata": {
  "kernelspec": {
   "display_name": "Python 3 (ipykernel)",
   "language": "python",
   "name": "python3"
  },
  "language_info": {
   "codemirror_mode": {
    "name": "ipython",
    "version": 3
   },
   "file_extension": ".py",
   "mimetype": "text/x-python",
   "name": "python",
   "nbconvert_exporter": "python",
   "pygments_lexer": "ipython3",
   "version": "3.11.7"
  }
 },
 "nbformat": 4,
 "nbformat_minor": 5
}
