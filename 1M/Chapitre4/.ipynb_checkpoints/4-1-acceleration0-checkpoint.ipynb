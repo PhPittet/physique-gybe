{
 "cells": [
  {
   "cell_type": "markdown",
   "id": "b3ae2fee-7182-449f-9b0d-b62894ffeb4e",
   "metadata": {},
   "source": [
    "# Qu'est-ce que l'accélération?\n",
    "\n",
    "Dans la conversation de tous les jours, accélérer signifie augmenter sa vitesse. L'accélérateur d'une voiture peut en effet la faire aller plus vite. Plus l'accélération est élevée, plus le changement de vitesse est important sur un temps donné. La définition formelle de `l'accélération` est cohérente avec ces notions, mais plus inclusive.\n",
    "\n",
    "## Accélération\n",
    "\n",
    "L'accélération moyenne représente la rapidité avec laquelle la vitesse change :\n",
    "::::{admonition} Accélération moyenne\n",
    ":class: hint\n",
    "Pour le mouvement à une dimension, on définit l'**accélération** moyenne comme étant la variation de la vitesse divisée par l'intervalle de temps correspondant :\n",
    ":::{math}\n",
    "a_{moy}=\\dfrac{\\Delta v}{\\Delta t}=\\dfrac{v_{f}-v_{0}}{t_{f}-t_{0}}\n",
    ":::\n",
    "où :\n",
    "- $a$ est l'accélération moyenne\n",
    "- $v_{0}$ est la vitesse initiale\n",
    "- $v_{f}$ est la vitesse finale\n",
    "- $\\Delta t$ le temps pendant lequel la vitesse varie\n",
    "\n",
    "L'accélération se mesure en $\\left[\\dfrac{m}{s^{2}}\\right]$\n",
    "::::\n",
    "\n",
    "Comme l'accélération est la vitesse, en $m/s$, divisée par le temps, en $s$, les unités SI pour l'accélération sont le $m/s^{2}$, le mètre par seconde au carré ou mètres par seconde par seconde, ce qui signifie littéralement *de combien de mètres par seconde la vitesse change chaque seconde*.\n",
    "\n",
    "Rappelez-vous que la vitesse est un vecteur - elle a à la fois une amplitude et une direction. Cela signifie qu'un changement de vitesse peut être un changement d'amplitude (ou de vitesse), mais il peut également s'agir d'un changement de direction. Par exemple, si une voiture tourne dans un virage à vitesse constante, elle accélère car sa direction change. Plus vous tournez vite, plus l'accélération est importante. Il y a donc une accélération lorsque la vitesse change soit en amplitude (augmentation ou diminution de la valeur de la vitesse), soit en direction, ou les deux.\n",
    "\n",
    "## Vecteur accélération\n",
    "L'accélération est un vecteur dans le même sens que le changement de vitesse, $\\overrightarrow{\\Delta v}$. On peut l'écrire :\n",
    "::::{admonition} Vecteur accélération\n",
    ":class: hint\n",
    "On définit le **vecteur accélération** $\\overrightarrow{a}\\,$ comme étant le vecteur vitesse $\\overrightarrow{\\Delta v}$ divisée par l'intervalle de temps $t$ correspondant :\n",
    ":::{math}\n",
    "\\overrightarrow{a}=\\dfrac{\\overrightarrow{\\Delta v}}{t}\n",
    ":::\n",
    "::::\n",
    "Gardez bien à l'esprit que l'accélération est toujours dans le même sens que le changement de vitesse et pas toujours dans le sens du mouvement.\\\n",
    "Lorsqu'un objet ralentit, son accélération est opposée à la direction de son mouvement. C'est ce qu'on appelle la décélération.\n",
    "```{figure} figures/Metro.jpg\n",
    ":name: Metro\n",
    ":align: center\n",
    ":width: 45%\n",
    "*Une rame de métro à Sao Paulo, au Brésil, décélère lorsqu'elle entre dans une gare. Son accélération est dans une direction opposée à sa vitesse et à sa direction de mouvement. (crédit: Yusuke Kawasaki,Flickr)*\n",
    "```\n",
    "\n",
    ":::{admonition} ALERTE IDÉE FAUSSE : **Accélération négative ou Décélération ?**\n",
    ":class: danger\n",
    "La décélération fait toujours référence à une accélération dans la direction opposée à la direction de la vitesse. La décélération réduit toujours la vitesse. Une accélération négative, cependant, est une accélération dans la direction négative du système de coordonnées choisi. Une accélération négative peut être ou non une décélération, et une décélération peut ou non être considérée comme une accélération négative. Par exemple, considérons la {numref}`acceleration_negative`.\n",
    "\n",
    "```{figure} figures/acceleration_negative2.png\n",
    ":name: acceleration_negative\n",
    ":align: center\n",
    ":width: 45%\n",
    "*(crédit: openstax.org).*\n",
    "```\n",
    "(a) Cette voiture accélère en se déplaçant vers la droite. Elle a donc une accélération positive dans le système de coordonnées.\\\n",
    "(b) Cette voiture ralentit en se déplaçant vers la droite. Par conséquent, elle a une accélération négative dans le système de coordonnées, car son accélération est vers la gauche. La voiture décélère également: la direction de son accélération est opposée à sa direction de mouvement.\\\n",
    "(c) Cette voiture se déplace vers la gauche, mais ralentit avec le temps. Par conséquent, son accélération est positive dans le système de coordonnées car elle est vers la droite. Cependant, la voiture décélère car son accélération est opposée à son mouvement.\\\n",
    "(d) Cette voiture accélère en se déplaçant vers la gauche. Elle a une accélération négative car elle accélère vers la gauche. Cependant, comme son accélération va dans le même sens que son mouvement, elle ne décélère pas. \n",
    ":::"
   ]
  },
  {
   "cell_type": "raw",
   "id": "0950f88b-e77c-4c1a-a8cf-ce1d1a0f7ccb",
   "metadata": {},
   "source": []
  }
 ],
 "metadata": {
  "kernelspec": {
   "display_name": "Python 3 (ipykernel)",
   "language": "python",
   "name": "python3"
  },
  "language_info": {
   "codemirror_mode": {
    "name": "ipython",
    "version": 3
   },
   "file_extension": ".py",
   "mimetype": "text/x-python",
   "name": "python",
   "nbconvert_exporter": "python",
   "pygments_lexer": "ipython3",
   "version": "3.11.7"
  }
 },
 "nbformat": 4,
 "nbformat_minor": 5
}
