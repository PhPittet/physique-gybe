{
 "cells": [
  {
   "cell_type": "markdown",
   "id": "0e4309d2-33bd-4cdb-9498-a472ee9f56af",
   "metadata": {
    "tags": []
   },
   "source": [
    "(chap:chiffresignificatif)=\n",
    "# Chiffres significatifs\n",
    "\n",
    "En sciences expérimentales, c'est la précision de l'appareil de mesure qui détermine `le chiffre significatif`. Si, par exemple, on dispose d'un chronomètre qui mesure la milliseconde, les résultats sont notés avec 3 chiffres décimaux.\n",
    "\n",
    ":::{admonition} Chiffres Significatifs\n",
    ":class: hint\n",
    "C'est le nombre de chiffres utilisé pour écrire un nombre. Les zéros, placés en début du nombre (à gauche), ne comptent pas comme chiffres significatifs.\n",
    "\n",
    "C'est également le nombre de chiffres connus *avec certitude* plus le premier chiffre incertain (arrondi). Cela indique *la précision d'une mesure*.\n",
    ":::\n",
    "\n",
    ":::{admonition} Exemples de résultats d'arrondi\n",
    ":class: note\n",
    "1.  $73.5$ a $3$ chiffres significatifs: le $7$, et le $3$ sont certains et le $5$\n",
    "    est incertain (arrondi).\n",
    "\n",
    "2.  $0.013$ a 2 chiffres significatifs: les zéros ne comptent pas, le $1$\n",
    "    est certain et le $3$ est incertain.\n",
    "\n",
    "3.  $120.3$ a 4 chiffres significatifs (le zéro compte).\n",
    "\n",
    "4.  $0.00206$ a 3 chiffres significatifs.\n",
    "\n",
    "5.  $0.002060$ a 4 chiffres significatifs.\n",
    "\n",
    "6.  $7.36\\cdot 10^{4}$ a 3 chiffres significatifs.\n",
    "\n",
    "7.  Pour arrondir$10.234$ à 4 chiffres significatifs, on garde les 3\n",
    "    premiers et on arrondit le $4^{e}$, ce qui donne: $10.23$\n",
    "\n",
    "8.  Pour arrondir $0.09268$ à 3 chiffres significatifs, on garde les 2\n",
    "    premiers et on arrondit le $3^{e}$, ce qui donne: $0.0927$\n",
    "\n",
    "9.  En notation scientifique, le nombre $74'983$ s'écrit:\n",
    "\n",
    "    -   Avec 5 chiffres significatifs: $7.4983\\cdot 10^{4}$\n",
    "\n",
    "    -   Avec 4 chiffres significatifs: $7.498\\cdot 10^{4}$\n",
    "\n",
    "    -   Avec 3 chiffres significatifs: $7.50\\cdot 10^{4}$\n",
    "\n",
    "    -   Avec 2 chiffres significatifs: $7.5\\cdot 10^{4}$\n",
    "\n",
    "    -   Avec 1 chiffres significatifs: $7\\cdot 10^{4}$\n",
    "\n",
    "    L'ordre de grandeur de ce nombre est : $10^{5}$\\\n",
    "    $74'983$ est plus proche de $100'000=10^{5}$ que de $10'000=10^{4}$\n",
    ":::\n",
    "\n",
    "::::{admonition} Attention\n",
    ":class: danger\n",
    "En règle générale, le résultat d'un calcul ne peut pas avoir une précision plus grande que celle de la donnée de départ. Il convient donc d'arrondir le résultat final du calcul pour avoir la même précision que la donnée. **On garde en revanche toute la précision pour les résultats intermédiaires**.\n",
    "\n",
    ":::{dropdown} *Exemples*\n",
    "1.  $24.32\\div 0.01234=197.082658$ (sur la calculatrice) mais on donnera $197.1$ comme réponse\n",
    "    (arrondi à 4 chiffres significatifs comme la donnée de départ).\n",
    "\n",
    "2.  $3.20\\times 1.25=4 \\rightarrow$ $4.00$ (3 chiffres significatifs).\n",
    "\n",
    "3.  On veut calculer $1\\div f$ où $f =340\\div 2.60$ ;\n",
    "    On obtient d'abord $f=130.7692308$ (non arrondi, car c'est un résultat intermédiaire), puis $1\\div 130.7692308=0.007647059$ et donc $0.00765$ comme résultat final (arrondi à 3 chiffres significatifs).\n",
    ":::\n",
    "::::\n",
    "\n",
    ":::{admonition} Sur la calculatrice\n",
    ":class: admonition-calcicon important\n",
    "La touche `STO` de la calculatrice suivie de `1`, `2` ou `3` permet de stocker une valeur en mémoire.\\\n",
    "On récupère cette valeur avec la touche `RCL` suivie de `1`, `2` ou `3`.\n",
    ":::\n"
   ]
  },
  {
   "cell_type": "markdown",
   "id": "097af667-be77-4d86-96f4-ac1b8ae52452",
   "metadata": {
    "tags": []
   },
   "source": [
    ":::{admonition} YouTube\n",
    ":class: dropdown admonition-youtube\n",
    "Quelques liens de vidéo utiles sur le même sujet:\n",
    "- [Combien de CHIFFRES SIGNIFICATIFS ? 💡 Méthode | Physique-Chimie (Lycée)](https://www.youtube.com/embed/1zAPfrZaAiA)\n",
    "- \n",
    ":::"
   ]
  },
  {
   "cell_type": "raw",
   "id": "9bb2c6c0-357a-4fe1-a6fe-f3652f173b39",
   "metadata": {
    "tags": []
   },
   "source": [
    "::::{admonition} YouTube\n",
    ":class: dropdown admonition-youtube\n",
    "[Combien de CHIFFRES SIGNIFICATIFS ? 💡 Méthode | Physique-Chimie (Lycée)](https://www.youtube.com/embed/1zAPfrZaAiA)\n",
    ":::{iframe} https://www.youtube.com/embed/1zAPfrZaAiA\n",
    ":width: 100%\n",
    ":::\n",
    "::::"
   ]
  }
 ],
 "metadata": {
  "kernelspec": {
   "display_name": "Python 3 (ipykernel)",
   "language": "python",
   "name": "python3"
  },
  "language_info": {
   "codemirror_mode": {
    "name": "ipython",
    "version": 3
   },
   "file_extension": ".py",
   "mimetype": "text/x-python",
   "name": "python",
   "nbconvert_exporter": "python",
   "pygments_lexer": "ipython3",
   "version": "3.11.7"
  }
 },
 "nbformat": 4,
 "nbformat_minor": 5
}
